{
  "nbformat": 4,
  "nbformat_minor": 0,
  "metadata": {
    "colab": {
      "provenance": [],
      "mount_file_id": "1V0IdhB6fQrUVVE9zia5ftB27mqjLsWpe",
      "authorship_tag": "ABX9TyOmuj2LdfZoVmkl71isUYXr",
      "include_colab_link": true
    },
    "kernelspec": {
      "name": "python3",
      "display_name": "Python 3"
    },
    "language_info": {
      "name": "python"
    },
    "gpuClass": "standard"
  },
  "cells": [
    {
      "cell_type": "markdown",
      "metadata": {
        "id": "view-in-github",
        "colab_type": "text"
      },
      "source": [
        "<a href=\"https://colab.research.google.com/github/SamAniedi/movieRecommenderSystem/blob/main/Movie_Recommender_System.ipynb\" target=\"_parent\"><img src=\"https://colab.research.google.com/assets/colab-badge.svg\" alt=\"Open In Colab\"/></a>"
      ]
    },
    {
      "cell_type": "code",
      "execution_count": null,
      "metadata": {
        "colab": {
          "base_uri": "https://localhost:8080/"
        },
        "id": "1ycBEWOCinkT",
        "outputId": "92f23369-ca14-4a93-b83a-db6b09d341ea"
      },
      "outputs": [
        {
          "output_type": "stream",
          "name": "stdout",
          "text": [
            "Looking in indexes: https://pypi.org/simple, https://us-python.pkg.dev/colab-wheels/public/simple/\n",
            "Requirement already satisfied: scikit-surprise in /usr/local/lib/python3.7/dist-packages (1.1.1)\n",
            "Requirement already satisfied: numpy>=1.11.2 in /usr/local/lib/python3.7/dist-packages (from scikit-surprise) (1.21.6)\n",
            "Requirement already satisfied: scipy>=1.0.0 in /usr/local/lib/python3.7/dist-packages (from scikit-surprise) (1.7.3)\n",
            "Requirement already satisfied: six>=1.10.0 in /usr/local/lib/python3.7/dist-packages (from scikit-surprise) (1.15.0)\n",
            "Requirement already satisfied: joblib>=0.11 in /usr/local/lib/python3.7/dist-packages (from scikit-surprise) (1.1.0)\n"
          ]
        }
      ],
      "source": [
        "!pip install scikit-surprise\n",
        "# !conda install -y -c conda-forge scikit-surprise # If you use conda on a non-Colab environment\n",
        "\n",
        "from surprise import SVD\n",
        "from surprise import Dataset\n",
        "from surprise.model_selection import cross_validate\n",
        "from surprise import Reader"
      ]
    },
    {
      "cell_type": "code",
      "source": [
        "# importing numpy\n",
        "from collections import defaultdict\n",
        "import numpy as np"
      ],
      "metadata": {
        "id": "uwuF9sQj1cuP"
      },
      "execution_count": null,
      "outputs": []
    },
    {
      "cell_type": "code",
      "source": [
        "import os\n",
        "import csv\n",
        "import sys\n",
        "import re\n",
        "\n"
      ],
      "metadata": {
        "id": "5NxDcpmpz4H5"
      },
      "execution_count": null,
      "outputs": []
    },
    {
      "cell_type": "code",
      "source": [
        "def BuildAntiTestSetForUser(testSubject, trainset):\n",
        "    fill = trainset.global_mean\n",
        "\n",
        "    anti_testset = []\n",
        "\n",
        "    u = trainset.to_inner_uid(str(testSubject))\n",
        "\n",
        "    user_items = set([j for (j, _) in trainset.ur[u]])\n",
        "    anti_testset += [(trainset.to_raw_uid(u), trainset.to_raw_iid(i), fill) for\n",
        "                             i in trainset.all_items() if\n",
        "                             i not in user_items]\n",
        "    return anti_testset"
      ],
      "metadata": {
        "id": "s_Qx5efKYw1z"
      },
      "execution_count": null,
      "outputs": []
    },
    {
      "cell_type": "markdown",
      "source": [
        "# CREATING MOVIE LENS CLASS"
      ],
      "metadata": {
        "id": "kC1sgJl1Ltfp"
      }
    },
    {
      "cell_type": "code",
      "source": [
        "class MovieLens:\n",
        "\n",
        "    movieID_to_name = {}\n",
        "    name_to_movieID = {}\n",
        "    ratingsPath = '/content/drive/MyDrive/Machine Learning csv files/ml-latest-small/ratings.csv'\n",
        "    moviesPath = '/content/drive/MyDrive/Machine Learning csv files/ml-latest-small/movies.csv'\n",
        "\n",
        "    def loadMovieLensLatestSmall(self):\n",
        "\n",
        "        # Look for files relative to the directory we are running from\n",
        "        os.chdir(os.path.dirname(sys.argv[0]))\n",
        "\n",
        "        ratingsDataset = 0\n",
        "        self.movieID_to_name = {}\n",
        "        self.name_to_movieID = {}\n",
        "\n",
        "        reader = Reader(line_format='user item rating timestamp', sep=',', skip_lines=1)\n",
        "\n",
        "        ratingsDataset = Dataset.load_from_file(self.ratingsPath, reader=reader)\n",
        "\n",
        "        with open(self.moviesPath, newline='', encoding='ISO-8859-1') as csvfile:\n",
        "                movieReader = csv.reader(csvfile)\n",
        "                next(movieReader)  #Skip header line\n",
        "                for row in movieReader:\n",
        "                    movieID = int(row[0])\n",
        "                    movieName = row[1]\n",
        "                    self.movieID_to_name[movieID] = movieName\n",
        "                    self.name_to_movieID[movieName] = movieID\n",
        "\n",
        "        return ratingsDataset\n",
        "\n",
        "    def getUserRatings(self, user):\n",
        "        userRatings = []\n",
        "        hitUser = False\n",
        "        with open(self.ratingsPath, newline='') as csvfile:\n",
        "            ratingReader = csv.reader(csvfile)\n",
        "            next(ratingReader)\n",
        "            for row in ratingReader:\n",
        "                userID = int(row[0])\n",
        "                if (user == userID):\n",
        "                    movieID = int(row[1])\n",
        "                    rating = float(row[2])\n",
        "                    userRatings.append((movieID, rating))\n",
        "                    hitUser = True\n",
        "                if (hitUser and (user != userID)):\n",
        "                    break\n",
        "\n",
        "        return userRatings\n",
        "\n",
        "    def getPopularityRanks(self):\n",
        "        ratings = defaultdict(int)\n",
        "        rankings = defaultdict(int)\n",
        "        with open(self.ratingsPath, newline='') as csvfile:\n",
        "            ratingReader = csv.reader(csvfile)\n",
        "            next(ratingReader)\n",
        "            for row in ratingReader:\n",
        "                movieID = int(row[1])\n",
        "                ratings[movieID] += 1\n",
        "        rank = 1\n",
        "        for movieID, ratingCount in sorted(ratings.items(), key=lambda x: x[1], reverse=True):\n",
        "            rankings[movieID] = rank\n",
        "            rank += 1\n",
        "        return rankings\n",
        "\n",
        "    def getGenres(self):\n",
        "        genres = defaultdict(list)\n",
        "        genreIDs = {}\n",
        "        maxGenreID = 0\n",
        "        with open(self.moviesPath, newline='', encoding='ISO-8859-1') as csvfile:\n",
        "            movieReader = csv.reader(csvfile)\n",
        "            next(movieReader)  #Skip header line\n",
        "            for row in movieReader:\n",
        "                movieID = int(row[0])\n",
        "                genreList = row[2].split('|')\n",
        "                genreIDList = []\n",
        "                for genre in genreList:\n",
        "                    if genre in genreIDs:\n",
        "                        genreID = genreIDs[genre]\n",
        "                    else:\n",
        "                        genreID = maxGenreID\n",
        "                        genreIDs[genre] = genreID\n",
        "                        maxGenreID += 1\n",
        "                    genreIDList.append(genreID)\n",
        "                genres[movieID] = genreIDList\n",
        "        # Convert integer-encoded genre lists to bitfields that we can treat as vectors\n",
        "        for (movieID, genreIDList) in genres.items():\n",
        "            bitfield = [0] * maxGenreID\n",
        "            for genreID in genreIDList:\n",
        "                bitfield[genreID] = 1\n",
        "            genres[movieID] = bitfield\n",
        "\n",
        "        return genres\n",
        "\n",
        "    def getYears(self):\n",
        "        p = re.compile(r\"(?:\\((\\d{4})\\))?\\s*$\")\n",
        "        years = defaultdict(int)\n",
        "        with open(self.moviesPath, newline='', encoding='ISO-8859-1') as csvfile:\n",
        "            movieReader = csv.reader(csvfile)\n",
        "            next(movieReader)\n",
        "            for row in movieReader:\n",
        "                movieID = int(row[0])\n",
        "                title = row[1]\n",
        "                m = p.search(title)\n",
        "                year = m.group(1)\n",
        "                if year:\n",
        "                    years[movieID] = int(year)\n",
        "        return years\n",
        "\n",
        "    def getMiseEnScene(self):\n",
        "        mes = defaultdict(list)\n",
        "        with open(\"LLVisualFeatures13K_Log.csv\", newline='') as csvfile:\n",
        "            mesReader = csv.reader(csvfile)\n",
        "            next(mesReader)\n",
        "            for row in mesReader:\n",
        "                movieID = int(row[0])\n",
        "                avgShotLength = float(row[1])\n",
        "                meanColorVariance = float(row[2])\n",
        "                stddevColorVariance = float(row[3])\n",
        "                meanMotion = float(row[4])\n",
        "                stddevMotion = float(row[5])\n",
        "                meanLightingKey = float(row[6])\n",
        "                numShots = float(row[7])\n",
        "                mes[movieID] = [avgShotLength, meanColorVariance, stddevColorVariance,\n",
        "                   meanMotion, stddevMotion, meanLightingKey, numShots]\n",
        "        return mes\n",
        "\n",
        "    def getMovieName(self, movieID):\n",
        "        if movieID in self.movieID_to_name:\n",
        "            return self.movieID_to_name[movieID]\n",
        "        else:\n",
        "            return \"\"\n",
        "\n",
        "    def getMovieID(self, movieName):\n",
        "        if movieName in self.name_to_movieID:\n",
        "            return self.name_to_movieID[movieName]\n",
        "        else:\n",
        "            return 0\n",
        "\n",
        ""
      ],
      "metadata": {
        "id": "FcG489Ni2cwT"
      },
      "execution_count": null,
      "outputs": []
    },
    {
      "cell_type": "code",
      "source": [
        "# Pick an arbitrary test subject\n",
        "testSubject = 500"
      ],
      "metadata": {
        "id": "qTPlKleC28UD"
      },
      "execution_count": null,
      "outputs": []
    },
    {
      "cell_type": "code",
      "source": [
        "\n",
        "ml = MovieLens()"
      ],
      "metadata": {
        "id": "KIoMcgSK3Aec"
      },
      "execution_count": null,
      "outputs": []
    },
    {
      "cell_type": "markdown",
      "source": [
        "# LOADING MOVIE RATING"
      ],
      "metadata": {
        "id": "__vVrrvfaYo_"
      }
    },
    {
      "cell_type": "code",
      "source": [
        "data = ml.loadMovieLensLatestSmall()"
      ],
      "metadata": {
        "id": "kW46REwv3KYL"
      },
      "execution_count": null,
      "outputs": []
    },
    {
      "cell_type": "markdown",
      "source": [
        "# GETTING VIEWERS RATING"
      ],
      "metadata": {
        "id": "u-AwOoK8ajqN"
      }
    },
    {
      "cell_type": "code",
      "source": [
        "# getting user ratings\n",
        "userRatings = ml.getUserRatings(testSubject)\n",
        "loved = []\n",
        "hated = []\n",
        "for ratings in userRatings:\n",
        "    if (float(ratings[1]) > 4.0):\n",
        "        loved.append(ratings)\n",
        "    if (float(ratings[1]) < 3.0):\n",
        "        hated.append(ratings)"
      ],
      "metadata": {
        "id": "CpuoJNNL98Dc"
      },
      "execution_count": null,
      "outputs": []
    },
    {
      "cell_type": "markdown",
      "source": [
        "# MOVIES VIEWER LOVED AND THE ONE'S VIEWER DID NOT LIKE"
      ],
      "metadata": {
        "id": "waIA4MJGbYQq"
      }
    },
    {
      "cell_type": "code",
      "source": [
        "print(\"\\nUser \", testSubject, \" These Movies were rated well\")\n",
        "for ratings in loved:\n",
        "    print(ml.getMovieName(ratings[0]))\n",
        "print(\"\\n...and didn't like these movies:\")\n",
        "for ratings in hated:\n",
        "    print(ml.getMovieName(ratings[0]))"
      ],
      "metadata": {
        "colab": {
          "base_uri": "https://localhost:8080/"
        },
        "id": "PxbI0WEYKLs4",
        "outputId": "6a7e23ea-9d9c-41eb-83b0-2ac92b30300c"
      },
      "execution_count": null,
      "outputs": [
        {
          "output_type": "stream",
          "name": "stdout",
          "text": [
            "\n",
            "User  500  These Movies were rated well\n",
            "Shawshank Redemption, The (1994)\n",
            "Forrest Gump (1994)\n",
            "Breakfast Club, The (1985)\n",
            "Secret of NIMH, The (1982)\n",
            "Pretty in Pink (1986)\n",
            "Life Is Beautiful (La Vita Ã¨ bella) (1997)\n",
            "Cruel Intentions (1999)\n",
            "10 Things I Hate About You (1999)\n",
            "Chocolat (2000)\n",
            "Amelie (Fabuleux destin d'AmÃ©lie Poulain, Le) (2001)\n",
            "Love Actually (2003)\n",
            "Pride and Prejudice (1995)\n",
            "Wedding Date, The (2005)\n",
            "Kiss Kiss Bang Bang (2005)\n",
            "Accepted (2006)\n",
            "Meet the Robinsons (2007)\n",
            "How the Grinch Stole Christmas! (1966)\n",
            "Stardust (2007)\n",
            "Juno (2007)\n",
            "Penelope (2006)\n",
            "Nick and Norah's Infinite Playlist (2008)\n",
            "Angus, Thongs and Perfect Snogging (2008)\n",
            "Boy in the Striped Pajamas, The (Boy in the Striped Pyjamas, The) (2008)\n",
            "\n",
            "...and didn't like these movies:\n",
            "Toy Story (1995)\n",
            "Jumanji (1995)\n",
            "Babe (1995)\n",
            "Clueless (1995)\n",
            "Pocahontas (1995)\n",
            "Casper (1995)\n",
            "Star Wars: Episode IV - A New Hope (1977)\n",
            "Star Trek: Generations (1994)\n",
            "Ace Ventura: Pet Detective (1994)\n",
            "Lion King, The (1994)\n",
            "Mask, The (1994)\n",
            "Jurassic Park (1993)\n",
            "Silence of the Lambs, The (1991)\n",
            "Pretty Woman (1990)\n",
            "Twister (1996)\n",
            "Hunchback of Notre Dame, The (1996)\n",
            "Cable Guy, The (1996)\n",
            "Wizard of Oz, The (1939)\n",
            "Willy Wonka & the Chocolate Factory (1971)\n",
            "Reservoir Dogs (1992)\n",
            "E.T. the Extra-Terrestrial (1982)\n",
            "Star Wars: Episode VI - Return of the Jedi (1983)\n",
            "Psycho (1960)\n",
            "Groundhog Day (1993)\n",
            "101 Dalmatians (1996)\n",
            "Scream (1996)\n",
            "Liar Liar (1997)\n",
            "Men in Black (a.k.a. MIB) (1997)\n",
            "3 Ninjas: High Noon On Mega Mountain (1998)\n",
            "Wedding Singer, The (1998)\n",
            "There's Something About Mary (1998)\n",
            "Goonies, The (1985)\n",
            "Honey, I Blew Up the Kid (1992)\n",
            "Honey, I Shrunk the Kids (1989)\n",
            "Little Mermaid, The (1989)\n",
            "Bug's Life, A (1998)\n",
            "Crocodile Dundee (1986)\n",
            "Matrix, The (1999)\n",
            "Rocky Horror Picture Show, The (1975)\n",
            "American Pie (1999)\n",
            "Blair Witch Project, The (1999)\n",
            "Runaway Bride (1999)\n",
            "Sixth Sense, The (1999)\n",
            "Fight Club (1999)\n",
            "Great Muppet Caper, The (1981)\n",
            "Erin Brockovich (2000)\n",
            "Thelma & Louise (1991)\n",
            "Animal House (1978)\n",
            "Chicken Run (2000)\n",
            "Perfect Storm, The (2000)\n",
            "Cell, The (2000)\n",
            "Meet the Parents (2000)\n",
            "Requiem for a Dream (2000)\n",
            "Charlie's Angels (2000)\n",
            "Shrek (2001)\n",
            "Moulin Rouge (2001)\n",
            "A.I. Artificial Intelligence (2001)\n",
            "Others, The (2001)\n",
            "3 Ninjas (1992)\n",
            "3 Ninjas Kick Back (1994)\n",
            "3 Ninjas Knuckle Up (1995)\n",
            "Donnie Darko (2001)\n",
            "Harry Potter and the Sorcerer's Stone (a.k.a. Harry Potter and the Philosopher's Stone) (2001)\n",
            "Lord of the Rings: The Fellowship of the Ring, The (2001)\n",
            "Ice Age (2002)\n",
            "Ring, The (2002)\n",
            "Lord of the Rings: The Two Towers, The (2002)\n",
            "Seabiscuit (2003)\n",
            "Along Came Polly (2004)\n",
            "The Butterfly Effect (2004)\n",
            "Sideways (2004)\n",
            "Saw (2004)\n",
            "Hotel Rwanda (2004)\n",
            "Life Aquatic with Steve Zissou, The (2004)\n",
            "40-Year-Old Virgin, The (2005)\n",
            "Da Vinci Code, The (2006)\n",
            "Borat: Cultural Learnings of America for Make Benefit Glorious Nation of Kazakhstan (2006)\n",
            "300 (2007)\n",
            "Once (2006)\n",
            "Superbad (2007)\n",
            "WALLÂ·E (2008)\n",
            "Cinderella (1997)\n",
            "Camp Rock (2008)\n",
            "Funny People (2009)\n",
            "Fast and the Furious, The (1955)\n"
          ]
        }
      ]
    },
    {
      "cell_type": "markdown",
      "source": [
        "# BUILDING RECOMMENDATION MODEL"
      ],
      "metadata": {
        "id": "-vq0qxgicD4K"
      }
    },
    {
      "cell_type": "code",
      "source": [
        "print(\"\\nBuilding recommendation model...\")\n",
        "trainSet = data.build_full_trainset()"
      ],
      "metadata": {
        "colab": {
          "base_uri": "https://localhost:8080/"
        },
        "id": "dMoqhsEQKSBi",
        "outputId": "50534264-2b80-4d55-deea-d5e804057733"
      },
      "execution_count": null,
      "outputs": [
        {
          "output_type": "stream",
          "name": "stdout",
          "text": [
            "\n",
            "Building recommendation model...\n"
          ]
        }
      ]
    },
    {
      "cell_type": "markdown",
      "source": [
        "# MODEL FITTING"
      ],
      "metadata": {
        "id": "vuwNrGTXMGhs"
      }
    },
    {
      "cell_type": "code",
      "source": [
        "# Trainig our mode\n",
        "algo = SVD()\n",
        "algo.fit(trainSet)"
      ],
      "metadata": {
        "colab": {
          "base_uri": "https://localhost:8080/"
        },
        "id": "dCnaKcYnKYNW",
        "outputId": "eef57a34-2c50-4b01-cb82-795b8bb79b92"
      },
      "execution_count": null,
      "outputs": [
        {
          "output_type": "execute_result",
          "data": {
            "text/plain": [
              "<surprise.prediction_algorithms.matrix_factorization.SVD at 0x7f5b6e8e8b50>"
            ]
          },
          "metadata": {},
          "execution_count": 114
        }
      ]
    },
    {
      "cell_type": "markdown",
      "source": [
        "# CREATING RECOMMENDATIONS"
      ],
      "metadata": {
        "id": "e0oGcgKaMVBP"
      }
    },
    {
      "cell_type": "code",
      "source": [
        "print(\"Computing recommendations...\")\n",
        "testSet = BuildAntiTestSetForUser(testSubject, trainSet)\n",
        "predictions = algo.test(testSet)"
      ],
      "metadata": {
        "colab": {
          "base_uri": "https://localhost:8080/"
        },
        "id": "mxQtfIZzK2fA",
        "outputId": "f93c48c9-8be2-45ef-ce58-3cab44171f59"
      },
      "execution_count": null,
      "outputs": [
        {
          "output_type": "stream",
          "name": "stdout",
          "text": [
            "Computing recommendations...\n"
          ]
        }
      ]
    },
    {
      "cell_type": "code",
      "source": [
        "# creating a list of recommendation\n",
        "recommendations = []"
      ],
      "metadata": {
        "id": "E5sRjGr7QiIn"
      },
      "execution_count": null,
      "outputs": []
    },
    {
      "cell_type": "markdown",
      "source": [
        "# SYTEM RECOMMENDATION"
      ],
      "metadata": {
        "id": "glWAUIExcPhR"
      }
    },
    {
      "cell_type": "code",
      "source": [
        "print (\"\\nWe recommend:\")\n",
        "for userID, movieID, actualRating, estimatedRating, _ in predictions:\n",
        "    intMovieID = int(movieID)\n",
        "    recommendations.append((intMovieID, estimatedRating))\n",
        "\n",
        "recommendations.sort(key=lambda x: x[1], reverse=True)\n",
        "\n",
        "for ratings in recommendations[:10]:\n",
        "    print(ml.getMovieName(ratings[0]))"
      ],
      "metadata": {
        "colab": {
          "base_uri": "https://localhost:8080/"
        },
        "id": "cP57wJNUZL72",
        "outputId": "c8a0166c-a1ca-4246-8986-3668a5aa621f"
      },
      "execution_count": null,
      "outputs": [
        {
          "output_type": "stream",
          "name": "stdout",
          "text": [
            "\n",
            "We recommend:\n",
            "Roger & Me (1989)\n",
            "Indiana Jones and the Last Crusade (1989)\n",
            "Raging Bull (1980)\n",
            "Seven Samurai (Shichinin no samurai) (1954)\n",
            "Monsters, Inc. (2001)\n",
            "Dark Knight, The (2008)\n",
            "12 Angry Men (1957)\n",
            "Wolf of Wall Street, The (2013)\n",
            "Raiders of the Lost Ark (Indiana Jones and the Raiders of the Lost Ark) (1981)\n",
            "Happiness (1998)\n"
          ]
        }
      ]
    },
    {
      "cell_type": "code",
      "source": [],
      "metadata": {
        "id": "fBLldM29ZYSr"
      },
      "execution_count": null,
      "outputs": []
    }
  ]
}